{
  "nbformat": 4,
  "nbformat_minor": 0,
  "metadata": {
    "colab": {
      "provenance": [],
      "authorship_tag": "ABX9TyOcnNYuAmnEzqSFbh7l9pRN",
      "include_colab_link": true
    },
    "kernelspec": {
      "name": "python3",
      "display_name": "Python 3"
    },
    "language_info": {
      "name": "python"
    }
  },
  "cells": [
    {
      "cell_type": "markdown",
      "metadata": {
        "id": "view-in-github",
        "colab_type": "text"
      },
      "source": [
        "<a href=\"https://colab.research.google.com/github/Dhanushyavenkatrajan/python/blob/main/PYTHON5.ipynb\" target=\"_parent\"><img src=\"https://colab.research.google.com/assets/colab-badge.svg\" alt=\"Open In Colab\"/></a>"
      ]
    },
    {
      "cell_type": "code",
      "execution_count": 1,
      "metadata": {
        "colab": {
          "base_uri": "https://localhost:8080/"
        },
        "id": "kMGP3Ils9ckn",
        "outputId": "b53b734a-f242-4d8a-9d75-0e580000e863"
      },
      "outputs": [
        {
          "output_type": "stream",
          "name": "stdout",
          "text": [
            "\n",
            "Options:\n",
            "1. Add Task\n",
            "2. Remove Task\n",
            "3. View Tasks\n",
            "4. Exit\n",
            "Choose (1-4): 1\n",
            "Enter task: PROJECT\n",
            "Task added.\n",
            "\n",
            "Options:\n",
            "1. Add Task\n",
            "2. Remove Task\n",
            "3. View Tasks\n",
            "4. Exit\n",
            "Choose (1-4): 1\n",
            "Enter task: CERTIFICATION\n",
            "Task added.\n",
            "\n",
            "Options:\n",
            "1. Add Task\n",
            "2. Remove Task\n",
            "3. View Tasks\n",
            "4. Exit\n",
            "Choose (1-4): 3\n",
            "1. PROJECT\n",
            "2. CERTIFICATION\n",
            "\n",
            "Options:\n",
            "1. Add Task\n",
            "2. Remove Task\n",
            "3. View Tasks\n",
            "4. Exit\n",
            "Choose (1-4): 2\n",
            "1. PROJECT\n",
            "2. CERTIFICATION\n",
            "Enter task number to remove: 1\n",
            "Removed: PROJECT\n",
            "\n",
            "Options:\n",
            "1. Add Task\n",
            "2. Remove Task\n",
            "3. View Tasks\n",
            "4. Exit\n",
            "Choose (1-4): 4\n",
            "Goodbye!\n"
          ]
        }
      ],
      "source": [
        "tasks = []\n",
        "\n",
        "def show_menu():\n",
        "    print(\"\\nOptions:\\n1. Add Task\\n2. Remove Task\\n3. View Tasks\\n4. Exit\")\n",
        "\n",
        "def add_task():\n",
        "    task = input(\"Enter task: \").strip()\n",
        "    if not task:\n",
        "        print(\"Task can't be empty.\")\n",
        "    elif task.lower() in (t.lower() for t in tasks):\n",
        "        print(\"Task already exists.\")\n",
        "    else:\n",
        "        tasks.append(task)\n",
        "        print(\"Task added.\")\n",
        "\n",
        "def remove_task():\n",
        "    if not tasks:\n",
        "        print(\"No tasks to remove.\")\n",
        "        return\n",
        "    view_tasks()\n",
        "    try:\n",
        "        num = int(input(\"Enter task number to remove: \"))\n",
        "        if 1 <= num <= len(tasks):\n",
        "            print(f\"Removed: {tasks.pop(num - 1)}\")\n",
        "        else:\n",
        "            print(\"Invalid task number.\")\n",
        "    except ValueError:\n",
        "        print(\"Please enter a number.\")\n",
        "\n",
        "def view_tasks():\n",
        "    if not tasks:\n",
        "        print(\"No tasks.\")\n",
        "    else:\n",
        "        for i, task in enumerate(tasks, 1):\n",
        "            print(f\"{i}. {task}\")\n",
        "\n",
        "while True:\n",
        "    show_menu()\n",
        "    choice = input(\"Choose (1-4): \")\n",
        "    if choice == '1':\n",
        "        add_task()\n",
        "    elif choice == '2':\n",
        "        remove_task()\n",
        "    elif choice == '3':\n",
        "        view_tasks()\n",
        "    elif choice == '4':\n",
        "        print(\"Goodbye!\")\n",
        "        break\n",
        "    else:\n",
        "        print(\"Invalid choice.\")\n"
      ]
    }
  ]
}
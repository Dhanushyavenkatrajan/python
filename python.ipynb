{
  "nbformat": 4,
  "nbformat_minor": 0,
  "metadata": {
    "colab": {
      "provenance": [],
      "authorship_tag": "ABX9TyPlXTZ6vBjk8CncIbp9Q4ny",
      "include_colab_link": true
    },
    "kernelspec": {
      "name": "python3",
      "display_name": "Python 3"
    },
    "language_info": {
      "name": "python"
    }
  },
  "cells": [
    {
      "cell_type": "markdown",
      "metadata": {
        "id": "view-in-github",
        "colab_type": "text"
      },
      "source": [
        "<a href=\"https://colab.research.google.com/github/Dhanushyavenkatrajan/python/blob/main/python.ipynb\" target=\"_parent\"><img src=\"https://colab.research.google.com/assets/colab-badge.svg\" alt=\"Open In Colab\"/></a>"
      ]
    },
    {
      "cell_type": "code",
      "source": [
        "C=int(input(\"Enter the celcius \"))\n",
        "print(\"Fahrenheit:\")\n",
        "print(((C * 9/5) + 32))\n",
        "print(\"Kelvin:\")\n",
        "print((C + 273.15))"
      ],
      "metadata": {
        "colab": {
          "base_uri": "https://localhost:8080/"
        },
        "id": "WKZU383UvlPn",
        "outputId": "1ca08492-911c-4a2f-8cbf-7d33b8be98a6"
      },
      "execution_count": null,
      "outputs": [
        {
          "output_type": "stream",
          "name": "stdout",
          "text": [
            "Enter the celcius 60\n",
            "Fahrenheit:\n",
            "140.0\n",
            "Kelvin:\n",
            "333.15\n"
          ]
        }
      ]
    },
    {
      "cell_type": "code",
      "source": [
        "year=int(input(\"Enter the year: \"))\n",
        "if((year%4==0 and year%100!=0) or year%400==0):\n",
        "  print(\"Leap year\")\n",
        "else:\n",
        "  print(\"Not a leap year\")"
      ],
      "metadata": {
        "colab": {
          "base_uri": "https://localhost:8080/"
        },
        "id": "3b07Pzy4xCzo",
        "outputId": "46082ef0-4a1d-4899-8bbb-82e0c8b6cbff"
      },
      "execution_count": null,
      "outputs": [
        {
          "output_type": "stream",
          "name": "stdout",
          "text": [
            "Enter the year: 2004\n",
            "Leap year\n"
          ]
        }
      ]
    },
    {
      "cell_type": "code",
      "source": [],
      "metadata": {
        "id": "EBoB7ipvyF5_"
      },
      "execution_count": null,
      "outputs": []
    },
    {
      "cell_type": "code",
      "source": [
        "age=int(input(\"Age of the Visitor: \"))\n",
        "if(age>0 and age<=12):\n",
        "  print(\"Child\")\n",
        "elif(age>12 and age<=19):\n",
        "  print(\"Teenager\")\n",
        "elif(age>19 and age<=59):\n",
        "  print(\"Adult\")\n",
        "else:\n",
        "  print(\"Senior citizen\")"
      ],
      "metadata": {
        "colab": {
          "base_uri": "https://localhost:8080/"
        },
        "id": "YboCxZ_syPNY",
        "outputId": "ff3cf7e3-3633-443f-a19c-5b977f7e9f7e"
      },
      "execution_count": null,
      "outputs": [
        {
          "output_type": "stream",
          "name": "stdout",
          "text": [
            "Age of the Visitor: 30\n",
            "Adult\n"
          ]
        }
      ]
    },
    {
      "cell_type": "code",
      "source": [
        "def fibo(n):\n",
        "    a=0\n",
        "    b=1\n",
        "    for i in range(n):\n",
        "      print(a,end=\" \")\n",
        "      a,b=b,a+b\n",
        "num=int(input(\"Enter the range:\"))\n",
        "fibo(num)"
      ],
      "metadata": {
        "colab": {
          "base_uri": "https://localhost:8080/"
        },
        "id": "K7kD6PUw00r5",
        "outputId": "d7a1b041-6ffb-4ce5-b023-dfdcd7031a20"
      },
      "execution_count": null,
      "outputs": [
        {
          "output_type": "stream",
          "name": "stdout",
          "text": [
            "Enter the range:8\n",
            "0 1 1 2 3 5 8 13 "
          ]
        }
      ]
    },
    {
      "cell_type": "code",
      "source": [
        "class Dog:\n",
        "  sound=\"hahaha\"\n",
        "  def __init__(mem,name,age):\n",
        "    mem.name=name\n",
        "    mem.age=age\n",
        "d1=Dog(\"Luna\",2)\n",
        "d2=Dog(\"Buddy\",3)\n",
        "print(d1.name)\n",
        "print(d1.age)\n",
        "print(d1.sound)\n",
        "print(d2.name)\n",
        "print(d2.age)\n",
        "print(d2.sound)"
      ],
      "metadata": {
        "colab": {
          "base_uri": "https://localhost:8080/"
        },
        "id": "ab6RmnqXZ8Va",
        "outputId": "7e819077-ba95-4d12-d235-2394d2dbcafe"
      },
      "execution_count": null,
      "outputs": [
        {
          "output_type": "stream",
          "name": "stdout",
          "text": [
            "Luna\n",
            "2\n",
            "hahaha\n",
            "Buddy\n",
            "3\n",
            "hahaha\n"
          ]
        }
      ]
    }
  ]
}